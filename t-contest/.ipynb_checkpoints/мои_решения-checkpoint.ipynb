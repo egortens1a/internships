{
 "cells": [
  {
   "cell_type": "code",
   "execution_count": 1,
   "metadata": {
    "colab": {
     "base_uri": "https://localhost:8080/"
    },
    "id": "7bLDByZWkuUV",
    "outputId": "7b685820-94fe-4872-a472-1089a51cc7b9"
   },
   "outputs": [
    {
     "name": "stdin",
     "output_type": "stream",
     "text": [
      " RSM\n"
     ]
    },
    {
     "name": "stdout",
     "output_type": "stream",
     "text": [
      "Yes\n"
     ]
    }
   ],
   "source": [
    "#1\n",
    "# В ЧЕМ СУТЬ:\n",
    "# Физически невозможно, чтобы R была последней И перед M, аналогично с первым местом для M \n",
    "# одновременно R и M по середине быть не могут, а значит условия выше достаточно\n",
    "s = input()\n",
    "print('Yes' if s[2]!='R' and s[0]!='M' else 'No')"
   ]
  },
  {
   "cell_type": "code",
   "execution_count": 16,
   "metadata": {
    "colab": {
     "base_uri": "https://localhost:8080/"
    },
    "id": "hzIislPgzJW_",
    "outputId": "cfbbc12d-9b4f-4733-f617-8f4e72b56212"
   },
   "outputs": [
    {
     "name": "stdin",
     "output_type": "stream",
     "text": [
      " 3\n",
      " 67\n"
     ]
    },
    {
     "name": "stdout",
     "output_type": "stream",
     "text": [
      "67\n"
     ]
    },
    {
     "name": "stdin",
     "output_type": "stream",
     "text": [
      " 15\n"
     ]
    },
    {
     "name": "stdout",
     "output_type": "stream",
     "text": [
      "14\n"
     ]
    },
    {
     "name": "stdin",
     "output_type": "stream",
     "text": [
      " 5\n"
     ]
    },
    {
     "name": "stdout",
     "output_type": "stream",
     "text": [
      "5\n"
     ]
    }
   ],
   "source": [
    "# 2\n",
    "# отрезаем максимально возможное число 2*i трижды и получаем остаток\n",
    "import math\n",
    "'''ПЛОХО РАБОТАЕТ'''\n",
    "def max_price(cash):\n",
    "    n = cash\n",
    "    bouquet = []\n",
    "    for i in range(3):\n",
    "        if n < 1:\n",
    "            return -1\n",
    "        price =  2 ** math.floor(math.log2(n))\n",
    "        if n - price < 2-i: # если повторы есть\n",
    "          price //= 2\n",
    "        bouquet.append(price)\n",
    "        n -= price\n",
    "    return cash - n\n",
    "\n",
    "N = int(input())\n",
    "\n",
    "for i in range(N):\n",
    "  cash = int(input())\n",
    "  print(max_price(cash))\n",
    "\n",
    "\n",
    "### НЕРАБОЧЕЕ ГАВНО"
   ]
  },
  {
   "cell_type": "code",
   "execution_count": 18,
   "metadata": {},
   "outputs": [
    {
     "name": "stdin",
     "output_type": "stream",
     "text": [
      " 3\n",
      " 67\n"
     ]
    },
    {
     "name": "stdout",
     "output_type": "stream",
     "text": [
      "67\n"
     ]
    },
    {
     "name": "stdin",
     "output_type": "stream",
     "text": [
      " 15\n"
     ]
    },
    {
     "name": "stdout",
     "output_type": "stream",
     "text": [
      "14\n"
     ]
    },
    {
     "name": "stdin",
     "output_type": "stream",
     "text": [
      " 5\n"
     ]
    },
    {
     "name": "stdout",
     "output_type": "stream",
     "text": [
      "-1\n"
     ]
    }
   ],
   "source": [
    "# 2\n",
    "# В ЧЕМ СУТЬ:\n",
    "# берем некоторый цветок 2**i, считаеем для него лучшую комбинацию 2**j+2**k\n",
    "import math\n",
    "\n",
    "def max_price(cash, N):\n",
    "    bouquet = []\n",
    "    bouquet_cost = -1\n",
    "    max_pow = math.floor(math.log2(cash))\n",
    "    for i in range(max_pow+1):\n",
    "        # два указателя с разных сторон\n",
    "        j, k = i + 1, max_pow\n",
    "        while j < k:\n",
    "            current_cost = (1 << i) + (1 << j) + (1 << k)\n",
    "            if current_cost <= cash:\n",
    "                bouquet_cost = max(bouquet_cost, current_cost)\n",
    "                j += 1  # ++стоимость\n",
    "            else:\n",
    "                k -= 1  # --стомость\n",
    "    return bouquet_cost\n",
    "\n",
    "N = int(input())\n",
    "\n",
    "for i in range(N): # вывел не одним списком чтобы меньше хранить\n",
    "  cash = int(input())\n",
    "  print(max_price(cash, N))"
   ]
  },
  {
   "cell_type": "code",
   "execution_count": 26,
   "metadata": {
    "colab": {
     "base_uri": "https://localhost:8080/"
    },
    "id": "o5tgNmGQ1XYV",
    "outputId": "2d09f053-33f8-4969-96b8-11f3ec93ec2c"
   },
   "outputs": [
    {
     "name": "stdin",
     "output_type": "stream",
     "text": [
      " 5 2\n",
      " 3 4 6 4 2\n"
     ]
    },
    {
     "name": "stdout",
     "output_type": "stream",
     "text": [
      "3\n"
     ]
    }
   ],
   "source": [
    "# 3\n",
    "# В ЧЕМ СУТЬ?\n",
    "# создаем список корректировок, находим выгоднее - заменяем\n",
    "'''Замена макс значения'''\n",
    "def change_max(lst, el):\n",
    "    max_index = lst.index(max(lst))\n",
    "    lst[max_index] = el\n",
    "\n",
    "n, m = map(int, input().split())\n",
    "days = list(map(int, input().split()))\n",
    "\n",
    "day1, day2 = days.pop(0), days.pop(0)\n",
    "lst = []\n",
    "\n",
    "for day in days:\n",
    "    if day > day2:\n",
    "        diff = day - day2\n",
    "    elif day < day1:\n",
    "        diff = day1 - day\n",
    "    else:\n",
    "        diff = 0\n",
    "\n",
    "    if diff:\n",
    "        if len(lst) < m:\n",
    "          lst.append(diff)\n",
    "        else:\n",
    "          change_max(lst, min(diff, max(lst)))\n",
    "\n",
    "print(int(np.sum(lst)))"
   ]
  },
  {
   "cell_type": "code",
   "execution_count": 33,
   "metadata": {
    "colab": {
     "base_uri": "https://localhost:8080/"
    },
    "id": "3jFRjEwvA1ib",
    "outputId": "cfe910a8-f1fc-4fca-90d8-f5b40632ffd8"
   },
   "outputs": [
    {
     "name": "stdin",
     "output_type": "stream",
     "text": [
      " 6 10 20 30\n",
      " 8 17 5 28 39 13\n"
     ]
    },
    {
     "name": "stdout",
     "output_type": "stream",
     "text": [
      "3\n"
     ]
    }
   ],
   "source": [
    "# 4\n",
    "import math\n",
    "# В ЧЕМ СУТЬ:\n",
    "# у нас есть всего 5 комбинаций:\n",
    "# 1) у X, Y и Z разные числа \n",
    "# 2)3)4) у двух делителей одно число, у третьего другое \n",
    "# 5) у всех делителей одно число\n",
    "# считаем наивыгодные стоимости изменений для каждой из комбинаций, и выбираем лучшую из лучших\n",
    "\n",
    "n, x, y, z = map(int, input().strip().split())\n",
    "a = list(map(int, input().strip().split()))\n",
    "'''Стоимость изменений'''\n",
    "def cost(a_i, m):\n",
    "    r = a_i % m\n",
    "    return 0 if r == 0 else m - r\n",
    "'''НОК'''\n",
    "def lcm(a, b):\n",
    "    return a // math.gcd(a, b) * b\n",
    "\n",
    "def apply_lst(lst1, lst2, func):\n",
    "    lst = []\n",
    "    for el1, el2 in zip(lst1, lst2):\n",
    "        lst.append(func((el1,el2)))\n",
    "    return lst\n",
    "\n",
    "# НОД'ы\n",
    "lcm_xy = lcm(x, y)\n",
    "lcm_xz = lcm(x, z)\n",
    "lcm_yz = lcm(y, z)\n",
    "lcm_xyz = lcm(lcm_xy, z)\n",
    "\n",
    "# просчитываем разные случаи\n",
    "MAX = x*y*z # больше этого числа точно не может быть изменений (чтобы превратить число в кратное , например х, нам достаточно добавить m<=x//2\n",
    "min_Z_Y_X = [MAX, MAX, MAX] # отдельные числа для x, y и z (ПЕРЕВЕРНУЛ ЧТОБЫ УМЕНШИТЬ КОЛ-ВО ОПЕРАЦИЙ)\n",
    "min_XY_XZ_YZ = [MAX, MAX, MAX] # отдельные числа для пар xy, xz и yz\n",
    "min_XYZ = MAX # одно число на всех\n",
    "\n",
    "for val in a:\n",
    "    curr_Z_Y_X = [cost(val, z), cost(val, y), cost(val, x)] # считаем стоимости изменений для a[i]\n",
    "    curr_XY_XZ_YZ = [cost(val, lcm_xy),cost(val, lcm_xz), cost(val, lcm_yz)]\n",
    "    curr_XYZ = cost(val, lcm_xyz)\n",
    "\n",
    "    min_Z_Y_X = apply_lst(min_Z_Y_X, curr_Z_Y_X, min) # отбираем выгодные\n",
    "    min_XY_XZ_YZ = apply_lst(min_XY_XZ_YZ, curr_XY_XZ_YZ, min)\n",
    "    min_XYZ = min(min_XYZ, curr_XYZ)\n",
    "\n",
    "#print(f'XYZ {min_XYZ}\\nXY_XZ_YZ {min_XY_XZ_YZ} \\nX_Y_Z {min_Z_Y_X}')\n",
    "combo_1 = min_XYZ\n",
    "combo_234 = apply_lst(\n",
    "    apply_lst(min_XY_XZ_YZ, min_Z_Y_X, sum),\n",
    "    [min_XYZ]*3,\n",
    "    min)\n",
    "combo_5 = sum(min_Z_Y_X)\n",
    "\n",
    "print(min(combo_1, min(combo_234),combo_5))"
   ]
  },
  {
   "cell_type": "code",
   "execution_count": 35,
   "metadata": {},
   "outputs": [
    {
     "name": "stdin",
     "output_type": "stream",
     "text": [
      " 5 5\n",
      " 5 1 5 1 5\n"
     ]
    },
    {
     "name": "stdout",
     "output_type": "stream",
     "text": [
      "35\n"
     ]
    }
   ],
   "source": [
    "# 5\n",
    "# В ЧЕМ СУТЬ РЕШЕНИЯ:\n",
    "# 1. для дальнейших рассчетов нам нужны префикс суммы P[i] - сумма ДО i-го элемента\n",
    "# 2. c[i] - индекс, после которого сумма в очередной раз превышает s. Найдем массив из таких индексов\n",
    "# 3. nxt[i] - с[i]+1  индекс при котором сумма превышает s.\n",
    "# 4. пусть F - sum(r=[l,n], f(l,r)). а значит формула из задания превращается в это: sum(l=[1,n],F(l))\n",
    "# 5. а значит нам остается просто посчитать новую формулу: sum(l=[1,n],F(l))\n",
    "\n",
    "n, s = map(int, input().split())\n",
    "a = list(map(int, input().split()))\n",
    "# 1. префикс суммы\n",
    "P = [0]\n",
    "for i in range(n):\n",
    "    P.append(P[i] + a[i])\n",
    "# 2. найдём c[i] методом двух указателей\n",
    "c = [0]\n",
    "j = 0\n",
    "for i in range(1, n+1):\n",
    "    # j+=1, ПОКА sum[i..j] <= s\n",
    "    while j < n and P[j+1] - P[i-1] <= s:\n",
    "        j += 1\n",
    "    c.append(j)\n",
    "    # j НЕ ОБНУЛЯЕМ\n",
    "# 3. строим nxt[i] = c[i]+1, по идее смысла считать нет\n",
    "# 4. вычисляем F(i) с конца\n",
    "F = [0]*(n+2)\n",
    "for i in range(n, 0, -1):\n",
    "    F[i] = (n - i + 1) + F[c[i]+1]\n",
    "# 5.\n",
    "print(sum(F[1:n+1]))"
   ]
  },
  {
   "cell_type": "code",
   "execution_count": 2,
   "metadata": {},
   "outputs": [
    {
     "name": "stdin",
     "output_type": "stream",
     "text": [
      "  7\n",
      " 1 1\n",
      " 2 2\n",
      " 1 4\n",
      " 6 3\n",
      "  4 5\n",
      "   4 1\n",
      " 3 3\n"
     ]
    },
    {
     "name": "stdout",
     "output_type": "stream",
     "text": [
      "2\n"
     ]
    }
   ],
   "source": [
    "### 6\n",
    "import math\n",
    "# В ЧЕМ СУТЬ:\n",
    "# считаем вектора,задающие прямые и находим самую популярную прямую\n",
    "\n",
    "# сводим вектор к минимально по int возможному коллинеарному ему вектору (dx, dy)\n",
    "def normalize_vector(dx, dy):\n",
    "    if dx == 0 and dy == 0:\n",
    "        return (0, 0)\n",
    "    if dx == 0:\n",
    "        return (0, 1)\n",
    "    if dy == 0:\n",
    "        return (1, 0)\n",
    "    g = int(math.gcd(dx, dy))\n",
    "    dx //= g\n",
    "    dy //= g\n",
    "    if dx < 0:\n",
    "        dx = -dx\n",
    "        dy = -dy\n",
    "    elif dx == 0 and dy < 0:\n",
    "        dy = -dy\n",
    "    return (dx, dy)\n",
    "\n",
    "\n",
    "N = int(input())\n",
    "home_cords = [tuple(map(int, input().split())) for _ in range(N)]\n",
    "\n",
    "if N < 3:\n",
    "    print(0)\n",
    "# максимальное число точек среди точек на одной прямой\n",
    "M = 1\n",
    "for i in range(N):\n",
    "    mp = {}\n",
    "    \n",
    "    localMax = 1\n",
    "    for j in range(i + 1, N):\n",
    "        dx = home_cords[j][0] - home_cords[i][0]\n",
    "        dy = home_cords[j][1] - home_cords[i][1]\n",
    "        vec = normalize_vector(dx, dy)\n",
    "    \n",
    "        mp[vec] = mp.get(vec, 0) + 1\n",
    "        \n",
    "        localMax = max(localMax, mp[vec] + 1)\n",
    "        \n",
    "    M = max(M, localMax)\n",
    "\n",
    "print(min(N // 3, N - M))\n"
   ]
  },
  {
   "cell_type": "code",
   "execution_count": null,
   "metadata": {
    "colab": {
     "base_uri": "https://localhost:8080/"
    },
    "id": "0S3cb95fa9WK",
    "outputId": "a5f93d78-5953-47ee-9547-ee6273d6ddac"
   },
   "outputs": [
    {
     "name": "stdout",
     "output_type": "stream",
     "text": [
      "3 3\n",
      "2 3 4\n",
      "[5, 6, 7] 18\n",
      "[25, 36, 49] 110\n",
      "[125, 216, 343] 684\n"
     ]
    }
   ],
   "source": [
    "# 7 ПЛОХОЕ РЕШЕНИЕ\n",
    "n, k = map(int, input().split())\n",
    "a = list(map(int, input().split()))\n",
    "pairs = list((sum((a[i],a[j])) for i in range(0,n-1) for j in range(i+1,n)))\n",
    "\n",
    "for p in range(1, k+1):\n",
    "  print(list(i ** p for i in pairs), sum(i ** p for i in pairs))"
   ]
  },
  {
   "cell_type": "code",
   "execution_count": 5,
   "metadata": {
    "id": "TEdlDvmyhKVG"
   },
   "outputs": [
    {
     "name": "stdin",
     "output_type": "stream",
     "text": [
      " 3 3\n",
      " 2 3 4\n"
     ]
    },
    {
     "name": "stdout",
     "output_type": "stream",
     "text": [
      "18\n",
      "110\n",
      "684\n"
     ]
    }
   ],
   "source": [
    "\"\"\"Вычисление биномиальных коэффициентов до max_k\"\"\"\n",
    "def binom_coeff(max_k):\n",
    "    binom = [[0] * (i + 1) for i in range(max_k + 1)]\n",
    "    for i in range(max_k + 1):\n",
    "        binom[i][0] = binom[i][i] = 1\n",
    "        for j in range(1, i):\n",
    "            binom[i][j] = add(binom[i-1][j-1], binom[i-1][j])\n",
    "    return binom\n",
    "\n",
    "MOD = 998244353\n",
    "# мы имеем группу по [+] по модулю MOD, а значит:\n",
    "\n",
    "\"\"\"Сложение по модулю\"\"\"\n",
    "def add(a, b):\n",
    "    a += b\n",
    "    while a >= MOD:\n",
    "        a -= MOD\n",
    "    return a\n",
    "    \n",
    "\"\"\"Вычитание по модулю\"\"\"\n",
    "def sub(a, b):\n",
    "    a -= b\n",
    "    while a < 0:\n",
    "        a += MOD\n",
    "    return a\n",
    "    \n",
    "\"\"\"Умножение по модулю\"\"\"\n",
    "def mod(a, b):\n",
    "    return (a * b) % MOD\n",
    "\n",
    "\n",
    "n, k = map(int, input().split())\n",
    "a = list(map(int, input().split()))\n",
    "\n",
    "S = [0] * (k + 1)\n",
    "S[0] = n % MOD\n",
    "for x in a:\n",
    "    current_power = 1\n",
    "    for t in range(1, k + 1):\n",
    "        current_power = mod(current_power, x)\n",
    "        S[t] = add(S[t], current_power)\n",
    "\n",
    "binom = binom_coeff(k)\n",
    "inv2 = 499122177 # обратный к 2 по MOD\n",
    "\n",
    "results = []\n",
    "for p in range(1, k + 1):\n",
    "    firstPart = 0\n",
    "    for r in range(p + 1):\n",
    "        term = mod(mod(binom[p][r], S[r]), S[p-r])\n",
    "        firstPart = add(firstPart, term)\n",
    "    firstPart = mod(firstPart, inv2)\n",
    "    \n",
    "    secondPart = mod(2**(p-1), S[p])\n",
    "    \n",
    "    results.append(sub(firstPart, secondPart))\n",
    "\n",
    "\n",
    "print(*results, sep='\\n')\n",
    "#уфффф....."
   ]
  },
  {
   "cell_type": "code",
   "execution_count": null,
   "metadata": {},
   "outputs": [],
   "source": []
  }
 ],
 "metadata": {
  "colab": {
   "provenance": []
  },
  "kernelspec": {
   "display_name": "Python 3 (ipykernel)",
   "language": "python",
   "name": "python3"
  },
  "language_info": {
   "codemirror_mode": {
    "name": "ipython",
    "version": 3
   },
   "file_extension": ".py",
   "mimetype": "text/x-python",
   "name": "python",
   "nbconvert_exporter": "python",
   "pygments_lexer": "ipython3",
   "version": "3.12.7"
  }
 },
 "nbformat": 4,
 "nbformat_minor": 4
}
